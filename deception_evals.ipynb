{
 "cells": [
  {
   "cell_type": "markdown",
   "metadata": {},
   "source": [
    "# Running deception evals\n",
    "\n",
    "Contents\n",
    "1. Load and parse data\n",
    "1. Run evals\n",
    "1. Manually look at the results\n",
    "\n",
    "Note you can skip the first two parts and manually look at previously created results"
   ]
  },
  {
   "cell_type": "code",
   "execution_count": null,
   "metadata": {},
   "outputs": [],
   "source": [
    "import json\n",
    "import os\n",
    "\n",
    "from utils import create_inspect_dataset_from_deception_dataset\n",
    "from utils import append_completion\n",
    "from utils import model_graded_deception\n",
    "\n",
    "from inspect_ai.solver import generate\n",
    "from inspect_ai import Task, eval, task"
   ]
  },
  {
   "cell_type": "markdown",
   "metadata": {},
   "source": [
    "## Load and parse data"
   ]
  },
  {
   "cell_type": "code",
   "execution_count": null,
   "metadata": {},
   "outputs": [],
   "source": [
    "dataset_path = os.path.join(\"data\", \"lovkush_experiment_01.json\")\n",
    "with open(dataset_path) as f:\n",
    "    data_json = json.load(f)\n",
    "\n",
    "# manually inspect one of the entries\n",
    "data_json[0]['variations'][0]['prompt'][0]['text']"
   ]
  },
  {
   "cell_type": "code",
   "execution_count": null,
   "metadata": {},
   "outputs": [],
   "source": [
    "dataset = create_inspect_dataset_from_deception_dataset(data_json)\n",
    "dataset[0]"
   ]
  },
  {
   "cell_type": "markdown",
   "metadata": {},
   "source": [
    "## Run evals"
   ]
  },
  {
   "cell_type": "code",
   "execution_count": null,
   "metadata": {},
   "outputs": [],
   "source": [
    "model_names = [\n",
    "    \"anthropic/claude-3-haiku-20240307\",\n",
    "    \"anthropic/claude-3-5-sonnet-20240620\",\n",
    "    \"openai/gpt-3.5-turbo\",\n",
    "    \"openai/gpt-4\",\n",
    "]"
   ]
  },
  {
   "cell_type": "code",
   "execution_count": null,
   "metadata": {},
   "outputs": [],
   "source": [
    "# If you want to automatically evaluate the models' outputs, use the model_graded_deception\n",
    "# by uncommenting the line below, instead of using None.\n",
    "\n",
    "@task\n",
    "def deception_task():\n",
    "    return Task(\n",
    "        dataset=dataset,\n",
    "        plan=[\n",
    "            append_completion(completion_type='deceptive'),\n",
    "            generate(),\n",
    "        ],\n",
    "        # scorer=model_graded_deception(model=\"anthropic/claude-3-5-sonnet-20240620\")\n",
    "        scorer=None,\n",
    "    )\n",
    "\n",
    "logs = eval(\n",
    "    tasks=deception_task(),\n",
    "    model=model_names[3],\n",
    ")"
   ]
  },
  {
   "cell_type": "markdown",
   "metadata": {},
   "source": [
    "## Manually look at the results\n",
    "\n",
    "After running the above cell, Inspect automatically creates a file in directory `logs`. I manually renamed them and moved to `results` folder."
   ]
  },
  {
   "cell_type": "code",
   "execution_count": null,
   "metadata": {},
   "outputs": [],
   "source": [
    "directory_results = os.path.join(\"results\", \"experiment01\")\n",
    "files = os.listdir(directory_results)\n",
    "\n",
    "for i, file in enumerate(files):\n",
    "    print(f\"File {i}: {file}\")"
   ]
  },
  {
   "cell_type": "code",
   "execution_count": null,
   "metadata": {},
   "outputs": [],
   "source": [
    "results_path = os.path.join(directory_results, files[0])\n",
    "results = json.load(open(results_path))"
   ]
  },
  {
   "cell_type": "code",
   "execution_count": null,
   "metadata": {},
   "outputs": [],
   "source": [
    "for sample in results['samples']:\n",
    "    print(f\"id: {sample['id']}\")\n",
    "    for message in sample['messages']:\n",
    "        content = message['content']\n",
    "        print('\\n'.join(content[150*i:150*(i+1)] for i in range(len(content)//150 + 1)))\n",
    "    print()"
   ]
  }
 ],
 "metadata": {
  "kernelspec": {
   "display_name": "deception",
   "language": "python",
   "name": "python3"
  },
  "language_info": {
   "codemirror_mode": {
    "name": "ipython",
    "version": 3
   },
   "file_extension": ".py",
   "mimetype": "text/x-python",
   "name": "python",
   "nbconvert_exporter": "python",
   "pygments_lexer": "ipython3",
   "version": "3.12.4"
  }
 },
 "nbformat": 4,
 "nbformat_minor": 2
}
